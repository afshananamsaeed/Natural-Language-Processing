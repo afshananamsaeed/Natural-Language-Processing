{
  "cells": [
    {
      "cell_type": "markdown",
      "metadata": {
        "id": "aFqV7L00tTQZ"
      },
      "source": [
        "# **ML4NLP1**- **Assignment 2**"
      ]
    },
    {
      "cell_type": "markdown",
      "metadata": {
        "id": "rVyiwnXsthMP"
      },
      "source": [
        "## Part 1- CBOW2"
      ]
    },
    {
      "cell_type": "markdown",
      "metadata": {
        "id": "eNDd1eujtmQ_"
      },
      "source": [
        "Importing the libraries and the dataset"
      ]
    },
    {
      "cell_type": "code",
      "execution_count": 1,
      "metadata": {
        "colab": {
          "base_uri": "https://localhost:8080/"
        },
        "id": "Q5t7aAQytRyG",
        "outputId": "1b8bc6ac-1e84-488d-9eee-b52cb6da12e6"
      },
      "outputs": [
        {
          "name": "stderr",
          "output_type": "stream",
          "text": [
            "[nltk_data] Downloading package punkt to /root/nltk_data...\n",
            "[nltk_data]   Unzipping tokenizers/punkt.zip.\n",
            "[nltk_data] Downloading package averaged_perceptron_tagger to\n",
            "[nltk_data]     /root/nltk_data...\n",
            "[nltk_data]   Unzipping taggers/averaged_perceptron_tagger.zip.\n",
            "[nltk_data] Downloading package stopwords to /root/nltk_data...\n",
            "[nltk_data]   Unzipping corpora/stopwords.zip.\n"
          ]
        },
        {
          "data": {
            "text/plain": [
              "<torch._C.Generator at 0x7fd45bf627f0>"
            ]
          },
          "execution_count": 1,
          "metadata": {},
          "output_type": "execute_result"
        }
      ],
      "source": [
        "import pandas as pd\n",
        "import csv\n",
        "import matplotlib.pyplot as plt\n",
        "import numpy as np\n",
        "import pandas as pd\n",
        "import string\n",
        "from tqdm import tqdm\n",
        "from tqdm import trange\n",
        "\n",
        "\n",
        "import torch\n",
        "import torch.nn as nn\n",
        "import torch.nn.functional as F\n",
        "import torch.optim as optim\n",
        "from torch.utils.data import DataLoader, TensorDataset\n",
        "from torch import autograd\n",
        "\n",
        "import re\n",
        "import string\n",
        "exclude = string.punctuation\n",
        "\n",
        "from nltk.stem.porter import PorterStemmer\n",
        "ps = PorterStemmer()\n",
        "\n",
        "from textblob import TextBlob\n",
        "from nltk.tokenize import word_tokenize, sent_tokenize\n",
        "import nltk\n",
        "nltk.download('punkt')\n",
        "nltk.download('averaged_perceptron_tagger')\n",
        "nltk.download('stopwords')\n",
        "from nltk.corpus import stopwords\n",
        "stopwords_english = stopwords.words('english')\n",
        "\n",
        "from nltk import word_tokenize, pos_tag\n",
        "from collections import Counter\n",
        "\n",
        "torch.manual_seed(1)"
      ]
    },
    {
      "cell_type": "code",
      "execution_count": 2,
      "metadata": {
        "colab": {
          "base_uri": "https://localhost:8080/",
          "height": 17
        },
        "id": "RBzgFyFfIUP5",
        "outputId": "2920f413-a251-4a77-c1b3-a5f1fe82f372"
      },
      "outputs": [
        {
          "data": {
            "application/javascript": "\nfunction ClickConnect(){\nconsole.log(\"Working\"); \ndocument.querySelector(\"colab-toolbar-button#toolbar-add-code\").click() \n}setInterval(ClickConnect,1200)\n",
            "text/plain": [
              "<IPython.core.display.Javascript object>"
            ]
          },
          "metadata": {},
          "output_type": "display_data"
        }
      ],
      "source": [
        "%%javascript\n",
        "\n",
        "function ClickConnect(){\n",
        "console.log(\"Working\"); \n",
        "document.querySelector(\"colab-toolbar-button#toolbar-add-code\").click() \n",
        "}setInterval(ClickConnect,1200)"
      ]
    },
    {
      "cell_type": "code",
      "execution_count": 3,
      "metadata": {
        "id": "QjyNHlU2tqc-"
      },
      "outputs": [],
      "source": [
        "df_hotel_reviews = pd.read_csv('tripadvisor_hotel_reviews.csv')\n",
        "obj_scifi = open(\"scifi.txt\",\"r\")\n",
        "df_scifi = obj_scifi.read()"
      ]
    },
    {
      "cell_type": "markdown",
      "metadata": {
        "id": "ODXCtGROxeOw"
      },
      "source": [
        "Creating Preprocessing and Word Embedding Classes"
      ]
    },
    {
      "cell_type": "code",
      "execution_count": 4,
      "metadata": {
        "id": "G8xYrRHCuLSd"
      },
      "outputs": [],
      "source": [
        "# data preprocessing class\n",
        "class Preprocessing:\n",
        "\n",
        "  # lowercasing\n",
        "  def convert_lowercase(self,text):\n",
        "      text = text.lower()\n",
        "      return text\n",
        "\n",
        "  # removing html tags\n",
        "  def remove_html_tags(self,text):\n",
        "      re_html = re.compile('<.*?>')\n",
        "      return re_html.sub(r'', text)\n",
        "\n",
        "  # removing URLS\n",
        "  def remove_url(self,text):\n",
        "      re_url = re.compile('https?://\\S+|www\\.\\S+')\n",
        "      return re_url.sub('', text)\n",
        "\n",
        "  # removing punctuations\n",
        "  def remove_punc(self,text):\n",
        "      return text.translate(str.maketrans('', '', exclude))\n",
        "\n",
        "  # removing special characters\n",
        "  def remove_special(self,text):\n",
        "      x=''\n",
        "      for i in text:\n",
        "          if i.isalnum():\n",
        "              x=x+i\n",
        "          else:\n",
        "              x=x+' '\n",
        "      return x\n",
        "\n",
        "  # removing digits\n",
        "  def remove_digits(self,text):\n",
        "      filtered_string = ''.join((x for x in text if not x.isdigit()))\n",
        "      return filtered_string\n",
        "\n",
        "  #removing textblob\n",
        "  def textblob(self,text):\n",
        "    textblob_ = TextBlob(text)\n",
        "    return textblob_\n",
        "\n",
        "  # removing stop words\n",
        "  def remove_stopwords(self,text):\n",
        "      new_text = []\n",
        "      for word in text.split():\n",
        "          if word in stopwords_english:\n",
        "              continue\n",
        "          else:\n",
        "              new_text.append(word)\n",
        "\n",
        "      return ' '.join(new_text)\n",
        "\n",
        "  def preprocess(self,text):\n",
        "    text = self.convert_lowercase(text)\n",
        "    text = self.remove_html_tags(text)\n",
        "    text = self.remove_url(text)\n",
        "    text = self.remove_digits(text)\n",
        "    text = self.remove_punc(text)\n",
        "    text = self.remove_special(text)\n",
        "    text = self.textblob(text)\n",
        "    text = self.remove_stopwords(text)\n",
        "\n",
        "    return text"
      ]
    },
    {
      "cell_type": "code",
      "execution_count": 5,
      "metadata": {
        "id": "jlrAYzs-uNN6"
      },
      "outputs": [],
      "source": [
        "# word embedding class\n",
        "class CBOW(nn.Module):\n",
        "\n",
        "    def __init__(self, vocab_size, embedding_dim, context_size):\n",
        "        super(CBOW, self).__init__()\n",
        "        self.embeddings = nn.Embedding(vocab_size, embedding_dim)\n",
        "        self.linear1 = nn.Linear(context_size * embedding_dim, 128)\n",
        "        self.linear2 = nn.Linear(128, vocab_size)\n",
        "\n",
        "    def forward(self, inputs):\n",
        "        embeds = self.embeddings(inputs).view((1, -1))\n",
        "        out = F.relu(self.linear1(embeds))\n",
        "        out = self.linear2(out)\n",
        "        log_probs = F.log_softmax(out, dim=1)\n",
        "        return log_probs\n",
        "\n",
        "#implementation class\n",
        "class implement_CBOW():\n",
        "\n",
        "  def __init__(self, vocab_size, embedding_dim, context_size):\n",
        "    self.vocab_size = vocab_size\n",
        "    self.embedding_dim = embedding_dim\n",
        "    self.context_size = context_size\n",
        "\n",
        "  def make_context_vector(self, context, word_to_ix):\n",
        "    idxs = [word_to_ix[w] for w in context]\n",
        "    return torch.tensor(idxs, dtype=torch.long)\n",
        "\n",
        "  def plot_losses(self, losses):\n",
        "    plt.plot(losses)\n",
        "    plt.xlabel(\"epoch\")\n",
        "    plt.ylabel(\"loss\")\n",
        "    plt.title(\"Loss vs epoch\")\n",
        "    plt.show()\n",
        "\n",
        "  def implement_CBOW_model(self, data_full, epochs, word_to_ix):\n",
        "    losses = []\n",
        "    loss_function = nn.NLLLoss()\n",
        "\n",
        "    # initializing CUDA adn adding model to device\n",
        "    model = CBOW(self.vocab_size, self.embedding_dim, self.context_size)\n",
        "    device = 'cuda:0' if torch.cuda.is_available() else 'cpu'\n",
        "    model.to(device)\n",
        "    \n",
        "    # also experimented with lr=0.001, 0.0001, 0.005, 0.05, 0.002 and 'Adam' optimizer\n",
        "    optimizer = optim.SGD(model.parameters(), lr=0.01) \n",
        "    \n",
        "    for epoch in range(epochs):\n",
        "      total_loss = 0  \n",
        "      data_for_batch = data_full\n",
        "      # using dataloader to split data into batch sizes of 10000 \n",
        "      for i, data in enumerate(tqdm(DataLoader(data_for_batch, batch_size=10000, shuffle=False, num_workers=2, pin_memory=True))):\n",
        "        data_emb = []\n",
        "\n",
        "        for j in range(2, len(data) - 2):\n",
        "          context = [data[j - 2], data[j - 1],\n",
        "                    data[j + 1], data[j + 2]]\n",
        "          target = data[j]\n",
        "          data_emb.append((context,target))\n",
        "\n",
        "        for context, target in data_emb:\n",
        "          # Step 1. Prepare the inputs to be passed to the model (i.e, turn the words\n",
        "          # into integer indices and wrap them in tensors)\n",
        "          context_idxs = self.make_context_vector(context, word_to_ix).cuda()\n",
        "\n",
        "          # Step 2. Recall that torch *accumulates* gradients. Before passing in a\n",
        "          # new instance, you need to zero out the gradients from the old\n",
        "          # instance\n",
        "          model.zero_grad(set_to_none=True)\n",
        "          \n",
        "          # Step 3. Run the forward pass, getting log probabilities over next\n",
        "          # words\n",
        "          log_probs = model(context_idxs).cuda()\n",
        "\n",
        "          # Step 4. Compute your loss function. (Again, Torch wants the target\n",
        "          # word wrapped in a tensor)\n",
        "          loss = loss_function(log_probs, torch.tensor([word_to_ix[target]], dtype=torch.long).cuda())\n",
        "\n",
        "        # Step 5. Do the backward pass and update the gradient\n",
        "        # updating weights for each batch\n",
        "        loss.backward()\n",
        "        optimizer.step()\n",
        "\n",
        "        # Get the Python number from a 1-element Tensor by calling tensor.item()\n",
        "        total_loss += loss.item()\n",
        "\n",
        "      #printing loss for each epoch\n",
        "      print(f'Epoch [{epoch}/{epochs}], loss: {loss:.4f}]')\n",
        "      losses.append(total_loss)\n",
        "    \n",
        "    self.plot_losses(losses)\n",
        "\n",
        "    return model"
      ]
    },
    {
      "cell_type": "markdown",
      "metadata": {
        "id": "MHKZ6Pkr5PJf"
      },
      "source": [
        "CBOW2 on the Hotel Reviews"
      ]
    },
    {
      "cell_type": "code",
      "execution_count": 6,
      "metadata": {
        "colab": {
          "base_uri": "https://localhost:8080/",
          "height": 724
        },
        "id": "I1C45mCc5M_c",
        "outputId": "98fbb878-b400-476e-bc8d-013c2b62cb53"
      },
      "outputs": [
        {
          "name": "stderr",
          "output_type": "stream",
          "text": [
            "100%|██████████| 202/202 [14:39<00:00,  4.35s/it]\n"
          ]
        },
        {
          "name": "stdout",
          "output_type": "stream",
          "text": [
            "Epoch [0/12], loss: 11.3196]\n"
          ]
        },
        {
          "name": "stderr",
          "output_type": "stream",
          "text": [
            "100%|██████████| 202/202 [14:24<00:00,  4.28s/it]\n"
          ]
        },
        {
          "name": "stdout",
          "output_type": "stream",
          "text": [
            "Epoch [1/12], loss: 10.9006]\n"
          ]
        },
        {
          "name": "stderr",
          "output_type": "stream",
          "text": [
            "100%|██████████| 202/202 [14:26<00:00,  4.29s/it]\n"
          ]
        },
        {
          "name": "stdout",
          "output_type": "stream",
          "text": [
            "Epoch [2/12], loss: 10.4924]\n"
          ]
        },
        {
          "name": "stderr",
          "output_type": "stream",
          "text": [
            "100%|██████████| 202/202 [14:19<00:00,  4.26s/it]\n"
          ]
        },
        {
          "name": "stdout",
          "output_type": "stream",
          "text": [
            "Epoch [3/12], loss: 9.9826]\n"
          ]
        },
        {
          "name": "stderr",
          "output_type": "stream",
          "text": [
            "100%|██████████| 202/202 [14:23<00:00,  4.27s/it]\n"
          ]
        },
        {
          "name": "stdout",
          "output_type": "stream",
          "text": [
            "Epoch [4/12], loss: 9.3190]\n"
          ]
        },
        {
          "name": "stderr",
          "output_type": "stream",
          "text": [
            "100%|██████████| 202/202 [14:20<00:00,  4.26s/it]\n"
          ]
        },
        {
          "name": "stdout",
          "output_type": "stream",
          "text": [
            "Epoch [5/12], loss: 8.4152]\n"
          ]
        },
        {
          "name": "stderr",
          "output_type": "stream",
          "text": [
            "100%|██████████| 202/202 [14:27<00:00,  4.29s/it]\n"
          ]
        },
        {
          "name": "stdout",
          "output_type": "stream",
          "text": [
            "Epoch [6/12], loss: 7.1246]\n"
          ]
        },
        {
          "name": "stderr",
          "output_type": "stream",
          "text": [
            "100%|██████████| 202/202 [14:25<00:00,  4.29s/it]\n"
          ]
        },
        {
          "name": "stdout",
          "output_type": "stream",
          "text": [
            "Epoch [7/12], loss: 5.3177]\n"
          ]
        },
        {
          "name": "stderr",
          "output_type": "stream",
          "text": [
            "100%|██████████| 202/202 [14:25<00:00,  4.28s/it]\n"
          ]
        },
        {
          "name": "stdout",
          "output_type": "stream",
          "text": [
            "Epoch [8/12], loss: 3.0615]\n"
          ]
        },
        {
          "name": "stderr",
          "output_type": "stream",
          "text": [
            "100%|██████████| 202/202 [14:24<00:00,  4.28s/it]\n"
          ]
        },
        {
          "name": "stdout",
          "output_type": "stream",
          "text": [
            "Epoch [9/12], loss: 0.8500]\n"
          ]
        },
        {
          "name": "stderr",
          "output_type": "stream",
          "text": [
            "100%|██████████| 202/202 [14:25<00:00,  4.29s/it]\n"
          ]
        },
        {
          "name": "stdout",
          "output_type": "stream",
          "text": [
            "Epoch [10/12], loss: 0.1790]\n"
          ]
        },
        {
          "name": "stderr",
          "output_type": "stream",
          "text": [
            "100%|██████████| 202/202 [14:26<00:00,  4.29s/it]\n"
          ]
        },
        {
          "name": "stdout",
          "output_type": "stream",
          "text": [
            "Epoch [11/12], loss: 0.1001]\n"
          ]
        },
        {
          "data": {
            "image/png": "[encoded data removed]",
            "text/plain": [
              "<Figure size 432x288 with 1 Axes>"
            ]
          },
          "metadata": {
            "needs_background": "light"
          },
          "output_type": "display_data"
        }
      ],
      "source": [
        "hotel_reviews = \" \".join(df_hotel_reviews[\"Review\"])\n",
        "hotel_reviews = Preprocessing().preprocess(hotel_reviews)\n",
        "\n",
        "hotel_reviews_raw = hotel_reviews.split()\n",
        "\n",
        "vocab_reviews = set(hotel_reviews_raw)\n",
        "vocab_size_reviews = len(vocab_reviews)\n",
        "\n",
        "word_to_ix_reviews = {word: i for i, word in enumerate(vocab_reviews)}\n",
        "ix_to_word_reviews = {i:word for i, word in enumerate(vocab_reviews)}\n",
        "\n",
        "EMBEDDING_DIM = 50\n",
        "CONTEXT_SIZE = 4\n",
        "\n",
        "cbow_reviews = implement_CBOW(vocab_size=vocab_size_reviews, \n",
        "                      embedding_dim=EMBEDDING_DIM, context_size= CONTEXT_SIZE)\n",
        "model_reviews = cbow_reviews.implement_CBOW_model(hotel_reviews_raw, epochs=12, word_to_ix=word_to_ix_reviews)"
      ]
    },
    {
      "cell_type": "markdown",
      "metadata": {
        "id": "ZvSjeQvc8A-B"
      },
      "source": [
        "CBOW2 on Sci-fi"
      ]
    },
    {
      "cell_type": "code",
      "execution_count": null,
      "metadata": {
        "colab": {
          "base_uri": "https://localhost:8080/",
          "height": 366
        },
        "id": "up5UwsAl6xFv",
        "outputId": "477a6250-206c-4994-fdb4-f8b8cc84ae7a"
      },
      "outputs": [
        {
          "name": "stderr",
          "output_type": "stream",
          "text": [
            "100%|██████████| 789/789 [1:41:08<00:00,  7.69s/it]\n"
          ]
        },
        {
          "name": "stdout",
          "output_type": "stream",
          "text": [
            "Epoch [0/2], loss: 12.5380]\n"
          ]
        },
        {
          "name": "stderr",
          "output_type": "stream",
          "text": [
            "100%|██████████| 789/789 [1:40:08<00:00,  7.62s/it]\n"
          ]
        },
        {
          "name": "stdout",
          "output_type": "stream",
          "text": [
            "Epoch [1/2], loss: 11.9435]\n"
          ]
        },
        {
          "data": {
            "image/png": "[encoded data removed]",
            "text/plain": [
              "<Figure size 432x288 with 1 Axes>"
            ]
          },
          "metadata": {
            "needs_background": "light"
          },
          "output_type": "display_data"
        }
      ],
      "source": [
        "scifi_text = Preprocessing().preprocess(df_scifi)\n",
        "\n",
        "scifi_text_raw = scifi_text.split()\n",
        "\n",
        "vocab_scifi = set(scifi_text_raw)\n",
        "vocab_size_scifi = len(vocab_scifi)\n",
        "\n",
        "word_to_ix_scifi = {word: i for i, word in enumerate(vocab_scifi)}\n",
        "ix_to_word_scifi = {i: word for i, word in enumerate(vocab_scifi)}\n",
        "\n",
        "EMBEDDING_DIM = 50\n",
        "CONTEXT_SIZE = 4\n",
        "\n",
        "cbow_scifi = implement_CBOW(vocab_size=vocab_size_scifi, \n",
        "                      embedding_dim=EMBEDDING_DIM, context_size= CONTEXT_SIZE)\n",
        "model_scifi = cbow_scifi.implement_CBOW_model(scifi_text_raw, epochs=2, word_to_ix=word_to_ix_scifi)"
      ]
    },
    {
      "cell_type": "markdown",
      "metadata": {
        "id": "GJydjpmT_Psk"
      },
      "source": [
        "### Part 2"
      ]
    },
    {
      "cell_type": "code",
      "execution_count": 7,
      "metadata": {
        "id": "IqgwR1nj_Rhw"
      },
      "outputs": [],
      "source": [
        "# function for finding the 3 nouns/verbs/adjectives\n",
        "def get_three_words(data,tag):\n",
        "  raw_data = data.split()\n",
        "  word_counter = Counter(raw_data)\n",
        "  pos_tag_counter = list(set([(word, word_counter[word], pos) for word,pos in pos_tag(word_tokenize(data)) if pos.startswith(tag)]))\n",
        "  pos_tag_counter.sort(key= lambda x: x[1])\n",
        "  # returning most frequent, least freaques and a middle word\n",
        "  return (pos_tag_counter[0][0],pos_tag_counter[-1][0],pos_tag_counter[int(len(pos_tag_counter)/2)][0])\n"
      ]
    },
    {
      "cell_type": "code",
      "execution_count": 8,
      "metadata": {
        "colab": {
          "base_uri": "https://localhost:8080/"
        },
        "id": "CJjKotuqBgaO",
        "outputId": "30ab6836-3dc2-4aa8-b536-45e36ce72e04"
      },
      "outputs": [
        {
          "name": "stdout",
          "output_type": "stream",
          "text": [
            "Hotel review words-- Nouns: ('scuf', 'hotel', 'taqueria'), Verbs: ('sojourned', 'hotel', 'barge'), Adjectives: ('wallsized', 'hotel', 'warrent')\n"
          ]
        }
      ],
      "source": [
        "# adding 9 words for Hotel Reviews dataset to a list and printing them\n",
        "hotel_review_whole = []\n",
        "for tag in [\"N\",\"V\",\"J\"]:\n",
        "  words = get_three_words(hotel_reviews, tag)\n",
        "  hotel_review_whole.append(words)\n",
        "\n",
        "print(\"Hotel review words-- Nouns: {}, Verbs: {}, Adjectives: {}\".format(hotel_review_whole[0],hotel_review_whole[1],hotel_review_whole[2]))\n"
      ]
    },
    {
      "cell_type": "code",
      "execution_count": null,
      "metadata": {
        "colab": {
          "base_uri": "https://localhost:8080/"
        },
        "id": "JSSsco9bBka9",
        "outputId": "56e810d4-26d9-4247-dd1a-52660505b916"
      },
      "outputs": [
        {
          "name": "stdout",
          "output_type": "stream",
          "text": [
            "Scifi words-- Nouns: ('twinkie', 'one', 'ausfaller'), Verbs: ('sheering', 'said', 'horseback'), Adjectives: ('skulltight', 'one', 'adisplacement')\n"
          ]
        }
      ],
      "source": [
        "# adding 9 words for Sci-fi dataset to a list and printing them\n",
        "scifi_whole = []\n",
        "for tag in [\"N\",\"V\",\"J\"]:\n",
        "  words = get_three_words(scifi_text, tag)\n",
        "  scifi_whole.append(words)\n",
        "\n",
        "print(\"Scifi words-- Nouns: {}, Verbs: {}, Adjectives: {}\".format(scifi_whole[0],scifi_whole[1],scifi_whole[2]))"
      ]
    },
    {
      "cell_type": "code",
      "execution_count": 9,
      "metadata": {
        "id": "gPd9ttw9FBOE"
      },
      "outputs": [],
      "source": [
        "#function for obtaining the closest words\n",
        "def get_closest_word(word, model, vocab, word_to_ix, ix_to_word, topn=5):\n",
        "    word_distance = []\n",
        "    emb = model.embeddings\n",
        "    pdist = nn.PairwiseDistance()\n",
        "    i = word_to_ix[word]\n",
        "    lookup_tensor_i = torch.tensor([i], dtype=torch.long).cuda()\n",
        "    v_i = emb(lookup_tensor_i)\n",
        "    for j in range(len(vocab)):\n",
        "        if j != i:\n",
        "            lookup_tensor_j = torch.tensor([j], dtype=torch.long).cuda()\n",
        "            v_j = emb(lookup_tensor_j)\n",
        "            word_distance.append((ix_to_word[j], float(pdist(v_i, v_j))))\n",
        "    word_distance.sort(key=lambda x: x[1])\n",
        "    return word_distance[:topn]\n"
      ]
    },
    {
      "cell_type": "code",
      "execution_count": null,
      "metadata": {
        "colab": {
          "base_uri": "https://localhost:8080/"
        },
        "id": "lOIg6e9Z2BQO",
        "outputId": "a4792d28-7d76-4ee1-c3cc-f39c1f2b9775"
      },
      "outputs": [
        {
          "name": "stdout",
          "output_type": "stream",
          "text": [
            "--------- Scifi Embedding ----------\n",
            "Word:  twinkie    Predictions:  [('balewa', 6.9823689460754395), ('gustibles', 7.046282768249512), ('booklength', 7.092227935791016), ('modernity', 7.207363605499268), ('aong', 7.2464165687561035)]\n",
            "Word:  one    Predictions:  [('dratted', 5.872995376586914), ('unconsidered', 5.9480671882629395), ('prononacementa', 5.9675798416137695), ('newbuilt', 6.05281925201416), ('larkas', 6.064686298370361)]\n",
            "Word:  ausfaller    Predictions:  [('archelon', 5.864109516143799), ('soberhogen', 6.000680446624756), ('transformers', 6.294220924377441), ('preiliminiaiy', 6.2953572273254395), ('slopehead', 6.347241401672363)]\n",
            "Word:  sheering    Predictions:  [('greetingcard', 6.355785846710205), ('barehanded', 6.671032905578613), ('vfgilant', 6.902981758117676), ('conkin', 6.91696310043335), ('platypusses', 6.983938694000244)]\n",
            "Word:  said    Predictions:  [('curvebottomed', 5.108492374420166), ('lastcited', 5.159820556640625), ('merchantcaptains', 5.293136119842529), ('rjght', 5.321431636810303), ('spinetingling', 5.33555269241333)]\n",
            "Word:  horseback    Predictions:  [('calishers', 6.347278594970703), ('tbered', 6.5049591064453125), ('reechoed', 6.557640552520752), ('zonestate', 6.561338424682617), ('gullet', 6.600736141204834)]\n",
            "Word:  skulltight    Predictions:  [('walktalky', 6.4074177742004395), ('alemenfory', 6.421570777893066), ('selfloving', 6.644487380981445), ('dennerman', 6.660455226898193), ('mathis', 6.66923189163208)]\n",
            "Word:  one    Predictions:  [('dratted', 5.872995376586914), ('unconsidered', 5.9480671882629395), ('prononacementa', 5.9675798416137695), ('newbuilt', 6.05281925201416), ('larkas', 6.064686298370361)]\n",
            "Word:  adisplacement    Predictions:  [('nothe', 6.193914413452148), ('computertapes', 6.521303176879883), ('lamehds', 6.53059720993042), ('dcvserts', 6.632418632507324), ('coourjoi', 6.641294002532959)]\n"
          ]
        }
      ],
      "source": [
        "scifi_words = [word for item in scifi_whole for word in item]\n",
        "\n",
        "# printing 5 closest words in Sci-fi dataset \n",
        "print(\"--------- Scifi Embedding ----------\")\n",
        "for i in scifi_words:\n",
        "  prediction = get_closest_word(i, model_scifi, vocab_scifi, word_to_ix_scifi, ix_to_word_scifi, topn = 5)\n",
        "  print('Word: ', i, '   Predictions: ', prediction)"
      ]
    },
    {
      "cell_type": "code",
      "execution_count": 10,
      "metadata": {
        "colab": {
          "base_uri": "https://localhost:8080/"
        },
        "id": "hiWAo4iF1soY",
        "outputId": "ced6e8a5-a046-4012-f82c-2c8cf4ba8fe1"
      },
      "outputs": [
        {
          "name": "stdout",
          "output_type": "stream",
          "text": [
            "--------- Hotel Review Embedding ----------\n",
            "Word:  scuf    Predictions:  [('pankcakes', 6.93496561050415), ('market', 7.012598037719727), ('hinti', 7.114603519439697), ('otherhours', 7.209336757659912), ('recommenedcasino', 7.232057094573975)]\n",
            "Word:  hotel    Predictions:  [('replacedthe', 6.951484203338623), ('bridgehighly', 6.951977252960205), ('switzerland', 7.061190128326416), ('supercentral', 7.067756652832031), ('belong', 7.1965651512146)]\n",
            "Word:  taqueria    Predictions:  [('sented', 5.928685188293457), ('trael', 6.3823347091674805), ('unmatchabled', 6.385087966918945), ('helpfulthank', 6.49245548248291), ('bottomline', 6.498477458953857)]\n",
            "Word:  sojourned    Predictions:  [('kewl', 6.4075927734375), ('atmosphereexcellent', 6.623318195343018), ('banki', 6.699078559875488), ('tripsit', 6.736910343170166), ('conducted', 6.760068416595459)]\n",
            "Word:  hotel    Predictions:  [('replacedthe', 6.951484203338623), ('bridgehighly', 6.951977252960205), ('switzerland', 7.061190128326416), ('supercentral', 7.067756652832031), ('belong', 7.1965651512146)]\n",
            "Word:  barge    Predictions:  [('convenientlywe', 6.156160354614258), ('goessens', 6.445632457733154), ('janwould', 6.464008808135986), ('pyramides', 6.485749244689941), ('partnerthe', 6.512049198150635)]\n",
            "Word:  wallsized    Predictions:  [('spy', 5.953336238861084), ('notecard', 6.389095306396484), ('botte', 6.394181251525879), ('subject', 6.595524311065674), ('interperter', 6.605859279632568)]\n",
            "Word:  hotel    Predictions:  [('replacedthe', 6.951484203338623), ('bridgehighly', 6.951977252960205), ('switzerland', 7.061190128326416), ('supercentral', 7.067756652832031), ('belong', 7.1965651512146)]\n",
            "Word:  warrent    Predictions:  [('eval', 5.848482131958008), ('redecorating', 6.1600823402404785), ('smallstaff', 6.192288398742676), ('statethe', 6.248205184936523), ('fantastics', 6.262139797210693)]\n"
          ]
        }
      ],
      "source": [
        "review_words = [word for item in hotel_review_whole for word in item]\n",
        "\n",
        "# printing 5 closest words in Hotel Reviews dataset \n",
        "print(\"--------- Hotel Review Embedding ----------\")\n",
        "for i in review_words:\n",
        "  prediction = get_closest_word(i, model_reviews, vocab_reviews, word_to_ix_reviews, ix_to_word_reviews, topn = 5)\n",
        "  print('Word: ', i, '   Predictions: ', prediction)"
      ]
    },
    {
      "cell_type": "markdown",
      "metadata": {},
      "source": [
        "Common Word Embeddings"
      ]
    },
    {
      "cell_type": "code",
      "execution_count": null,
      "metadata": {
        "colab": {
          "base_uri": "https://localhost:8080/"
        },
        "id": "aHuzUvNYFpd4",
        "outputId": "544d2a5c-c7a6-406c-8183-deb31d015037"
      },
      "outputs": [
        {
          "data": {
            "text/plain": [
              "['frequented', 'gothic']"
            ]
          },
          "execution_count": 31,
          "metadata": {},
          "output_type": "execute_result"
        }
      ],
      "source": [
        "# finding the two common words amongst scifi text and hotel review text\n",
        "two_common_words = list(set(hotel_reviews_raw).intersection(scifi_text_raw))[:2]\n",
        "two_common_words"
      ]
    },
    {
      "cell_type": "code",
      "execution_count": 12,
      "metadata": {
        "colab": {
          "base_uri": "https://localhost:8080/"
        },
        "id": "4lG28KQC2fgL",
        "outputId": "cd6a99ac-a80c-4c3b-fd28-54c82ba90a0f"
      },
      "outputs": [
        {
          "name": "stdout",
          "output_type": "stream",
          "text": [
            "--------- Hotel Review Embedding ----------\n",
            "Word:  frequented    Predictions:  [('vacancy', 6.7429046630859375), ('packetscreamer', 6.935954570770264), ('familychildren', 6.99105167388916), ('mealsthe', 7.017496109008789), ('planeçé', 7.063321113586426)]\n",
            "Word:  gothic    Predictions:  [('queenbed', 6.158846855163574), ('materials', 6.335575580596924), ('baccanales', 6.389595985412598), ('mustdo', 6.390081405639648), ('eminating', 6.451117992401123)]\n"
          ]
        }
      ],
      "source": [
        "print(\"--------- Hotel Review Embedding ----------\")\n",
        "for i in two_common_words:\n",
        "  prediction = get_closest_word(i, model_reviews, vocab_reviews, word_to_ix_reviews, ix_to_word_reviews, topn = 5)\n",
        "  print('Word: ', i, '   Predictions: ', prediction)"
      ]
    },
    {
      "cell_type": "code",
      "execution_count": null,
      "metadata": {
        "colab": {
          "base_uri": "https://localhost:8080/"
        },
        "id": "T4_0M4MK2cfH",
        "outputId": "740bda72-33e9-4128-f4c3-f2b1d5ec2886"
      },
      "outputs": [
        {
          "name": "stdout",
          "output_type": "stream",
          "text": [
            "--------- Scifi Embedding ----------\n",
            "Word:  frequented    Predictions:  [('iridescence', 5.648218154907227), ('gore', 5.666444778442383), ('circustent', 6.112143516540527), ('geries', 6.121190071105957), ('mismatching', 6.140778541564941)]\n",
            "Word:  gothic    Predictions:  [('brio', 6.6173601150512695), ('moskowitz', 6.707886219024658), ('benchlike', 6.709280490875244), ('powerful', 6.786182880401611), ('panding', 6.801762580871582)]\n"
          ]
        }
      ],
      "source": [
        "print(\"--------- Scifi Embedding ----------\")\n",
        "for i in two_common_words:\n",
        "  prediction = get_closest_word(i, model_scifi, vocab_scifi, word_to_ix_scifi, ix_to_word_scifi, topn = 5)\n",
        "  print('Word: ', i, '   Predictions: ', prediction)"
      ]
    },
    {
      "cell_type": "code",
      "execution_count": null,
      "metadata": {
        "id": "v9DOhu41KbWY"
      },
      "outputs": [],
      "source": []
    }
  ],
  "metadata": {
    "accelerator": "GPU",
    "colab": {
      "collapsed_sections": [],
      "provenance": []
    },
    "gpuClass": "standard",
    "kernelspec": {
      "display_name": "Python 3",
      "name": "python3"
    },
    "language_info": {
      "name": "python"
    }
  },
  "nbformat": 4,
  "nbformat_minor": 0
}
